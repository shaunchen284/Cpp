{
 "cells": [
  {
   "cell_type": "code",
   "execution_count": 31,
   "metadata": {},
   "outputs": [],
   "source": [
    "import pandas as pd\n",
    "import numpy as np\n",
    "import netCDF4 as nc"
   ]
  },
  {
   "cell_type": "code",
   "execution_count": 32,
   "metadata": {},
   "outputs": [],
   "source": [
    "# 处理 CSV 文件的函数\n",
    "def process_csv(file_path,Lat1,Lon1,Time1):\n",
    "    df = pd.read_csv(file_path,encoding='gb2312')\n",
    "    df = df[['时间','经度', '纬度','水温2']]\n",
    "    # 剔除异常点\n",
    "    index_temp = (df['水温2'] < 40.0)&(df['水温2'] > -2.5)\n",
    "    df = df[index_temp]\n",
    "    # 判断是否是第 1个csv\n",
    "    if Lat1==0:\n",
    "        current_u = np.nan; current_v = np.nan; \n",
    "    else:\n",
    "        lon = np.array(df['经度'].iloc[-1]); lat = np.array(df['纬度'].iloc[-1])\n",
    "        # 计算正北和正东方向距离\n",
    "        from vincenty import vincenty\n",
    "        from datetime import datetime\n",
    "        before_pos = (Lat1,Lon1); current_pos = (np.array(lat),np.array(lat))\n",
    "        dis_N = vincenty((Lat1,lon), (lat,lon))\n",
    "        dis_E = vincenty((lat,Lon1), (lat,lon))\n",
    "        # 计算两个时间的差值\n",
    "        before_time = datetime.strptime(str(Time1), '%Y%m%d%H%M%S')\n",
    "        current_time = datetime.strptime(df['时间'].iloc[-1], '%Y/%m/%d %H:%M:%S')\n",
    "        time_difference = current_time - before_time\n",
    "        time_interval = time_difference.total_seconds()# 总秒数差,float类型\n",
    "        current_u = dis_E*1000/time_interval # 正东方向流速\n",
    "        current_v = dis_N*1000/time_interval # 正北方向流速\n",
    "    df['current_u'] = current_u\n",
    "    df['current_v'] = current_v\n",
    "    df['时间'] = pd.to_datetime(df['时间'])\n",
    "    # 将日期时间转换为所需的数字格式  2024-04-20 05:31:00 -> 20240420053100\n",
    "    df['时间'] = df['时间'].dt.strftime('%Y%m%d%H%M%S').astype('int64')\n",
    "    Lat1 = df['纬度'].iloc[-1]; Lon1 = df['经度'].iloc[-1]; Time1 = df['时间'].iloc[-1]\n",
    "    return Lon1,Lat1,Time1,df\n"
   ]
  },
  {
   "cell_type": "code",
   "execution_count": 33,
   "metadata": {},
   "outputs": [],
   "source": [
    "# Lat1 = 0; Lon1 = 0; Time1 = 20240419053101\n",
    "# # Lon1 = 111.390016; Lat1 = 17.030150; Time1 = 20240419032901\n",
    "# file_path = r'C:\\Users\\lenovo\\Desktop\\Floater\\Floater_QS_002_202303270530.csv'\n",
    "# Lon1,Lat1,Time1,df = process_csv(file_path,Lat1,Lon1,Time1)"
   ]
  },
  {
   "cell_type": "code",
   "execution_count": 34,
   "metadata": {},
   "outputs": [],
   "source": [
    "# print(Lon1)\n",
    "# print(Lat1)\n",
    "# print(Time1)"
   ]
  },
  {
   "cell_type": "code",
   "execution_count": 35,
   "metadata": {},
   "outputs": [],
   "source": [
    "def nc_generate(df,new_path,file_path,lon2 = 105.21,lat2 = 15.11,ReleaseTime = '2022-12-11 14:03:07 UTC',ReleaseLongitude = '111.8444°E',ReleaseLatitude = '17.4169°N',Sensor_SN = 2408,Comment = 'quality control data',information ='') :\n",
    "    # Floater_Type:'BS' lon2:105.21 lat2:15.11 deploy_time:202303270530(整数就可以，字符串也可以)\n",
    "    name = file_path.split('\\\\')[-1] # 'AWG_HYY_003_202303270530.csv'\n",
    "    Floater_Type = name.split('_')[1]\n",
    "    deviceID = name.split('_')[2]\n",
    "    \n",
    "    time = df['时间'].iloc[-1]\n",
    "    longitude = np.round(df['经度'].iloc[-1],4); latitude =np.round(df['纬度'].iloc[-1],4); \n",
    "    sst = np.round(df['水温2'].iloc[-1],4)\n",
    "    current_u = np.round(df['current_u'].iloc[-1],2)\n",
    "    current_v = np.round(df['current_v'].iloc[-1],2)\n",
    "    \n",
    "    num_row = df.shape[0] # 获取数据行数，为 node_dim准备\n",
    "    # 创建nc文件\n",
    "    format = 'NETCDF3_CLASSIC'\n",
    "    last_time = str(time)[:12]\n",
    "    filename = f'Floater_{Floater_Type}_{deviceID}_{lon2}E_{lat2}N_{last_time}_Q.nc'\n",
    "    file  = nc.Dataset(new_path+'/'+f'{filename}', 'w',format= format)\n",
    "\n",
    "    # 创建维度\n",
    "    time_dim = file.createDimension('num_time',1) \n",
    "    lon_dim = file.createDimension('num_longitude',1)\n",
    "    lat_dim = file.createDimension('num_latitude',1)\n",
    "    node_dim = file.createDimension('num_node',1)\n",
    "\n",
    "    # 创建变量\n",
    "    time_var = file.createVariable('time','f8',('num_time',))\n",
    "    lon_var = file.createVariable('longitude','f4',('num_longitude',))\n",
    "    lat_var = file.createVariable('latitude','f4',('num_latitude',))\n",
    "        # 'Latitude': 这是新创建的变量的名称\n",
    "        # 'f4': 这指定了变量的数据类型。'f8'代表64位浮点数（双精度）\n",
    "        # ('Latitude',):指定新变量所依赖的维度，('Latitude',)创建元组，而 ('Latitude')为一个字符串\n",
    "    sst_var = file.createVariable('sst','f4',('num_node',))\n",
    "    current_u_var = file.createVariable('current_u','f4',('num_node',))\n",
    "    current_v_var = file.createVariable('current_v','f4',('num_node',))\n",
    "\n",
    "    # 添加属性\n",
    "    time_var.long_name=\"the UTC time observed by the floater\"\n",
    "    lon_var.long_name = 'the longitude located by the floater' \n",
    "    lon_var.units = \"degrees_east\" \n",
    "    lat_var.long_name = 'the latitude located by the floater'\n",
    "    lat_var.units = \"degrees_north\"\n",
    "    sst_var.long_name = \"surface temperature of seawater observed by floater\"\n",
    "    sst_var.units = \"Celsius\" \n",
    "    current_u_var.long_name = \"eastward surface velocity of seawater inferred by floater\"\n",
    "    current_u_var.units = \"m/s\" \n",
    "    current_v_var.long_name = \"northward surface velocity of seawater inferred by floater\"\n",
    "    current_v_var.units = \"m/s\" \n",
    "    \n",
    "    # 变量中写入数据\n",
    "        # 必须time_var[:] = time_data，不可以time_var= time_data\n",
    "        # 使用createVariable方法创建一个变量后，这个变量实际上是一个特殊的对象，它代表netCDF文件中的一个数据区域。\n",
    "        # time_var = time_data会改变time_var的引用，而不是修改它所代表的数据区域的内容\n",
    "        # 相反，time_var[:]是用来引用该变量整个数据区域的一个“切片”\n",
    "        # time_var[:] = time_data 实际上是将time_data数组中的数据复制到time_var所代表的数据区域中\n",
    "    time_var[:] = time\n",
    "    lon_var[:] = longitude\n",
    "    lat_var[:] = latitude\n",
    "    sst_var[:] = sst\n",
    "    current_u_var[:] = current_u\n",
    "    current_v_var[:] = current_v\n",
    "\n",
    "    # 全局属性(需要放到最后来，不然添加不上全局属性)\n",
    "    file.Floater_SN = Floater_Type + '_' + deviceID\n",
    "    file.Floater_ReleaseTime = ReleaseTime\n",
    "    file.Floater_ReleaseLongitude = ReleaseLongitude\n",
    "    file.Floater_ReleaseLatitude = ReleaseLatitude\n",
    "    file.Sensor_SN = Sensor_SN\n",
    "    file.Sensor_accuracy = 'temperature,OST71,±0.01℃'\n",
    "    file.Comment = Comment\n",
    "    file.Information = information\n",
    "    file.Manufacturer = '国家海洋技术中心'\n",
    "    file.Source = 'Wei Ma, TianJin University, wei.ma@tju.edu.cn'\n",
    "    import datetime\n",
    "    import pytz\n",
    "    current_time = datetime.datetime.now() # 获取当前时间\n",
    "    utc_time = current_time.astimezone(pytz.utc) # 将当前时间转换为 UTC 时间\n",
    "    formatted_utc_time = utc_time.strftime(\"%Y-%m-%d %H:%M:%S %Z\") # 格式化并显示 UTC 时间\n",
    "    time_now = str(formatted_utc_time)[:19]\n",
    "    file.History = f'Created by Python at {time_now} UTC'\n",
    "\n",
    "    file.close() # 关闭文件\n",
    "    nc_path = new_path+'/'+f'{filename}'\n",
    "    return nc_path.replace('\\\\', '/')"
   ]
  },
  {
   "cell_type": "code",
   "execution_count": 36,
   "metadata": {},
   "outputs": [],
   "source": [
    "Lat1 = 0; Lon1 = 0; Time1 = 0"
   ]
  },
  {
   "cell_type": "code",
   "execution_count": 37,
   "metadata": {},
   "outputs": [
    {
     "name": "stdout",
     "output_type": "stream",
     "text": [
      "0\n",
      "0\n",
      "0\n"
     ]
    }
   ],
   "source": [
    "print(Lon1)\n",
    "print(Lat1)\n",
    "print(Time1)"
   ]
  },
  {
   "cell_type": "code",
   "execution_count": 38,
   "metadata": {},
   "outputs": [
    {
     "data": {
      "text/plain": [
       "'C:/Users/lenovo/Desktop/Floater/Floater_QS_003_105.21E_15.11N_202404220631_Q.nc'"
      ]
     },
     "execution_count": 38,
     "metadata": {},
     "output_type": "execute_result"
    }
   ],
   "source": [
    "file_path = r'C:\\Users\\lenovo\\Desktop\\Floater\\Floater_QS_003_202303270630.csv'\n",
    "\n",
    "# Lon1 = 111.390016; Lat1 = 17.030150; Time1 = 20240419032901\n",
    "Lon1,Lat1,Time1,df = process_csv(file_path,Lat1,Lon1,Time1)\n",
    "# new_path = r'C:\\Users\\lenovo\\Desktop\\java\\Glider05'\n",
    "new_path = r'C:\\Users\\lenovo\\Desktop\\Floater' #'C:/Users/lenovo/Desktop/java/Glider05'  'C:/Users/lenovo/Desktop/任务帧nc数据'\n",
    "Glider_Type = 'HY-BX' ;lon2 = 105.21 ;lat2 = 15.11 \n",
    "nc_generate(df,new_path,file_path,lon2,lat2)"
   ]
  },
  {
   "cell_type": "code",
   "execution_count": 39,
   "metadata": {},
   "outputs": [
    {
     "data": {
      "text/html": [
       "<div>\n",
       "<style scoped>\n",
       "    .dataframe tbody tr th:only-of-type {\n",
       "        vertical-align: middle;\n",
       "    }\n",
       "\n",
       "    .dataframe tbody tr th {\n",
       "        vertical-align: top;\n",
       "    }\n",
       "\n",
       "    .dataframe thead th {\n",
       "        text-align: right;\n",
       "    }\n",
       "</style>\n",
       "<table border=\"1\" class=\"dataframe\">\n",
       "  <thead>\n",
       "    <tr style=\"text-align: right;\">\n",
       "      <th></th>\n",
       "      <th>时间</th>\n",
       "      <th>经度</th>\n",
       "      <th>纬度</th>\n",
       "      <th>水温2</th>\n",
       "      <th>current_u</th>\n",
       "      <th>current_v</th>\n",
       "    </tr>\n",
       "  </thead>\n",
       "  <tbody>\n",
       "    <tr>\n",
       "      <th>0</th>\n",
       "      <td>20240422063103</td>\n",
       "      <td>112.690016</td>\n",
       "      <td>18.33015</td>\n",
       "      <td>28</td>\n",
       "      <td>NaN</td>\n",
       "      <td>NaN</td>\n",
       "    </tr>\n",
       "  </tbody>\n",
       "</table>\n",
       "</div>"
      ],
      "text/plain": [
       "               时间          经度        纬度  水温2  current_u  current_v\n",
       "0  20240422063103  112.690016  18.33015   28        NaN        NaN"
      ]
     },
     "execution_count": 39,
     "metadata": {},
     "output_type": "execute_result"
    }
   ],
   "source": [
    "df"
   ]
  },
  {
   "cell_type": "code",
   "execution_count": 40,
   "metadata": {},
   "outputs": [
    {
     "name": "stdout",
     "output_type": "stream",
     "text": [
      "112.690016\n",
      "18.33015\n",
      "20240422063103\n"
     ]
    }
   ],
   "source": [
    "print(Lon1)\n",
    "print(Lat1)\n",
    "print(Time1)"
   ]
  },
  {
   "cell_type": "code",
   "execution_count": 41,
   "metadata": {},
   "outputs": [
    {
     "data": {
      "text/html": [
       "<div>\n",
       "<style scoped>\n",
       "    .dataframe tbody tr th:only-of-type {\n",
       "        vertical-align: middle;\n",
       "    }\n",
       "\n",
       "    .dataframe tbody tr th {\n",
       "        vertical-align: top;\n",
       "    }\n",
       "\n",
       "    .dataframe thead th {\n",
       "        text-align: right;\n",
       "    }\n",
       "</style>\n",
       "<table border=\"1\" class=\"dataframe\">\n",
       "  <thead>\n",
       "    <tr style=\"text-align: right;\">\n",
       "      <th></th>\n",
       "      <th>时间</th>\n",
       "      <th>经度</th>\n",
       "      <th>纬度</th>\n",
       "      <th>水温2</th>\n",
       "      <th>current_u</th>\n",
       "      <th>current_v</th>\n",
       "    </tr>\n",
       "  </thead>\n",
       "  <tbody>\n",
       "    <tr>\n",
       "      <th>0</th>\n",
       "      <td>20240422063103</td>\n",
       "      <td>112.690016</td>\n",
       "      <td>18.33015</td>\n",
       "      <td>28</td>\n",
       "      <td>NaN</td>\n",
       "      <td>NaN</td>\n",
       "    </tr>\n",
       "  </tbody>\n",
       "</table>\n",
       "</div>"
      ],
      "text/plain": [
       "               时间          经度        纬度  水温2  current_u  current_v\n",
       "0  20240422063103  112.690016  18.33015   28        NaN        NaN"
      ]
     },
     "execution_count": 41,
     "metadata": {},
     "output_type": "execute_result"
    }
   ],
   "source": [
    "df"
   ]
  }
 ],
 "metadata": {
  "kernelspec": {
   "display_name": "dataprocess",
   "language": "python",
   "name": "python3"
  },
  "language_info": {
   "codemirror_mode": {
    "name": "ipython",
    "version": 3
   },
   "file_extension": ".py",
   "mimetype": "text/x-python",
   "name": "python",
   "nbconvert_exporter": "python",
   "pygments_lexer": "ipython3",
   "version": "3.9.17"
  }
 },
 "nbformat": 4,
 "nbformat_minor": 2
}
