{
 "cells": [
  {
   "cell_type": "code",
   "execution_count": 1,
   "metadata": {},
   "outputs": [],
   "source": [
    "import socket\n",
    "import os\n",
    "import threading\n",
    "import struct"
   ]
  },
  {
   "cell_type": "code",
   "execution_count": 2,
   "metadata": {},
   "outputs": [],
   "source": [
    "def socket_service():\n",
    "    try:\n",
    "        s = socket.socket(socket.AF_INET, socket.SOCK_STREAM)# 创建一个新的socket对象\n",
    "        s.setsockopt(socket.SOL_SOCKET, socket.SO_REUSEADDR, 1)# 设置socket选项以便地址和端口可以在程序重启后立即重用\n",
    "        s.bind(('192.168.11.200', 9002))\n",
    "        s.listen(10) # ?\n",
    "    except socket.error as msg:\n",
    "        print(msg)\n",
    "        os.sys.exit(1)\n",
    "    print('等待连接...')\n",
    "\n",
    "    while True:\n",
    "        # 循环接收客户端的连接请求。对于每一个连接，创建一个新的线程来处理该连接，确保多个连接可以同时被处理 ?\n",
    "        conn, addr = s.accept()\n",
    "        t = threading.Thread(target=deal_data, args=(conn, addr))\n",
    "        # 使用 threading.Thread 创建新线程来并行处理每个客户端的连接。\n",
    "        # 这允许服务器同时处理多个客户端请求，提高了服务器的处理能力。\n",
    "        t.start()"
   ]
  },
  {
   "cell_type": "code",
   "execution_count": null,
   "metadata": {},
   "outputs": [],
   "source": [
    "def deal_data(conn, addr):\n",
    "    print('客户端地址为： {0}'.format(addr)) \n",
    "    try:\n",
    "        # 读取文件名长度信息\n",
    "        file_name_length = conn.recv(2) # 接收2字节的数据，这2字节表示文件名的长度\n",
    "        file_name_length = int.from_bytes(file_name_length, byteorder='big')\n",
    "        # 指定大端字节序（byteorder='big'），这意味着字节最高位在前\n",
    "\n",
    "        # 读取文件名\n",
    "        file_name = conn.recv(file_name_length).decode('utf-8') # 通过文件名长度接收文件名\n",
    "        # 比如前2字节说明文件名程度为10，那么接下来接收10的长度，这个长度包含了文件名\n",
    "        print('数据名为 {0}'.format(file_name))\n",
    "\n",
    "        # 读取文件大小信息\n",
    "        file_size_bytes = conn.recv(8) # 接收8字节的数据，这8字节表示文件的大小\n",
    "        file_size = int.from_bytes(file_size_bytes, byteorder='big')\n",
    "        print('数据大小为 {0}'.format(file_size))\n",
    "\n",
    "        recvd_size = 0 # 通过文件大小来接收整个文件内容，并写入到服务器的本地文件系统中\n",
    "        file_path = 'D:/recept/' + file_name\n",
    "        with open(file_path, 'wb') as fp:\n",
    "            print('开始接收客户端数据...')\n",
    "            while recvd_size < file_size:\n",
    "                data = conn.recv(1024)\n",
    "                if not data:\n",
    "                    break\n",
    "                recvd_size += len(data)\n",
    "                fp.write(data)\n",
    "            print('客户端数据接收完成...')\n",
    "\n",
    "        # 数据接收完毕后，将数据发送回客户端到固定IP和端口\n",
    "        send_file_to_specific_client(file_path)\n",
    "\n",
    "    except Exception as e:\n",
    "        print(\"处理过程中出现异常: \", e)\n",
    "    finally:\n",
    "        conn.close() # 无论处理成功还是发生异常，都确保关闭与客户端的连接\n",
    "        print('连接已关闭。')"
   ]
  },
  {
   "cell_type": "code",
   "execution_count": 3,
   "metadata": {},
   "outputs": [],
   "source": [
    "def send_file_to_specific_client(file_path):\n",
    "    client_ip = '192.168.11.250'\n",
    "    client_port = 9999\n",
    "    try:\n",
    "        s = socket.socket(socket.AF_INET, socket.SOCK_STREAM)\n",
    "        s.connect((client_ip, client_port)) # 连接到指定的客户端IP地址和端口（'192.168.11.250'和端口9999）\n",
    "\n",
    "        with open(file_path, 'rb') as fp:\n",
    "            file_name = os.path.basename(file_path)\n",
    "            file_size = os.stat(file_path).st_size\n",
    "\n",
    "            file_name_encoded = file_name.encode('utf-8')\n",
    "            s.send(len(file_name_encoded).to_bytes(2, byteorder='big')) # 发送文件名长度\n",
    "            s.send(file_name_encoded) # 发送文件名\n",
    "            s.send(file_size.to_bytes(8, byteorder='big')) # 发送文件大小信息\n",
    "\n",
    "            print('开始向客户端发送数据...') # 读取文件内容并逐步发送给客户端直至文件末尾\n",
    "            while True:\n",
    "                data = fp.read(1024)\n",
    "                if not data:\n",
    "                    break\n",
    "                s.send(data)\n",
    "            print('数据传输完成：{0}'.format(file_name))\n",
    "    except Exception as e:\n",
    "        print(\"在发送文件过程中发生错误: \", e)\n",
    "    finally:\n",
    "        s.close()\n",
    "        print('文件发送操作完成。')"
   ]
  },
  {
   "cell_type": "code",
   "execution_count": null,
   "metadata": {},
   "outputs": [],
   "source": [
    "if __name__ == '__main__':\n",
    "    socket_service()"
   ]
  }
 ],
 "metadata": {
  "kernelspec": {
   "display_name": "dataprocess",
   "language": "python",
   "name": "python3"
  },
  "language_info": {
   "codemirror_mode": {
    "name": "ipython",
    "version": 3
   },
   "file_extension": ".py",
   "mimetype": "text/x-python",
   "name": "python",
   "nbconvert_exporter": "python",
   "pygments_lexer": "ipython3",
   "version": "3.9.17"
  }
 },
 "nbformat": 4,
 "nbformat_minor": 2
}
