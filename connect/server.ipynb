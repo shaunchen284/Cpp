{
 "cells": [
  {
   "cell_type": "code",
   "execution_count": 20,
   "metadata": {},
   "outputs": [],
   "source": [
    "import requests"
   ]
  },
  {
   "cell_type": "code",
   "execution_count": 21,
   "metadata": {},
   "outputs": [],
   "source": [
    "# 定义服务器的 IP 地址和端口\n",
    "server_ip = '192.168.11.250'\n",
    "server_port = 8080\n",
    "\n",
    "# 定义客户端的 IP 地址和端口\n",
    "client_ip = '192.168.11.200'\n",
    "client_port = 8081"
   ]
  },
  {
   "cell_type": "code",
   "execution_count": 22,
   "metadata": {},
   "outputs": [],
   "source": [
    "# 服务器端发送 CSV 文件的函数\n",
    "def send_csv_file():\n",
    "    # 读取 CSV 文件\n",
    "    with open(r'D:\\git\\python-projects\\200_400_train.csv', 'rb') as f:\n",
    "        file_data = f.read()\n",
    "\n",
    "    # 发送 POST 请求，将文件数据作为参数\n",
    "    response = requests.post(f'http://{client_ip}:{client_port}', data=file_data)\n",
    "    if response.status_code == 200:\n",
    "        print('File sent successfully.')\n",
    "    else:\n",
    "        print('Failed to send file.')"
   ]
  },
  {
   "cell_type": "code",
   "execution_count": 23,
   "metadata": {},
   "outputs": [
    {
     "name": "stdout",
     "output_type": "stream",
     "text": [
      "Failed to send file.\n"
     ]
    }
   ],
   "source": [
    "# 启动服务器文件发送\n",
    "send_csv_file()"
   ]
  },
  {
   "cell_type": "code",
   "execution_count": 24,
   "metadata": {},
   "outputs": [],
   "source": [
    "# import http.server\n",
    "# import socketserver\n",
    "\n",
    "# PORT = 8000\n",
    "\n",
    "# class MyHandler(http.server.SimpleHTTPRequestHandler):\n",
    "#     def do_GET(self):\n",
    "#         if self.path == '/file':\n",
    "#             self.send_response(200)\n",
    "#             self.send_header('Content-Disposition', 'attachment; filename=\"example.txt\"')\n",
    "#             self.end_headers()\n",
    "#             with open('example.txt', 'rb') as file:\n",
    "#                 self.wfile.write(file.read())\n",
    "#         else:\n",
    "#             super().do_GET()\n",
    "\n",
    "# with socketserver.TCPServer((\"\", PORT), MyHandler) as httpd:\n",
    "#     print(\"Serving at port\", PORT)\n",
    "#     httpd.serve_forever()"
   ]
  }
 ],
 "metadata": {
  "kernelspec": {
   "display_name": "dataprocess",
   "language": "python",
   "name": "python3"
  },
  "language_info": {
   "codemirror_mode": {
    "name": "ipython",
    "version": 3
   },
   "file_extension": ".py",
   "mimetype": "text/x-python",
   "name": "python",
   "nbconvert_exporter": "python",
   "pygments_lexer": "ipython3",
   "version": "3.9.17"
  }
 },
 "nbformat": 4,
 "nbformat_minor": 2
}
