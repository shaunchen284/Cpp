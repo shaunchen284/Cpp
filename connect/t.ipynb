{
 "cells": [
  {
   "cell_type": "code",
   "execution_count": 33,
   "metadata": {},
   "outputs": [],
   "source": [
    "file_name = 'WPV_WP_001_202405091735.csv'\n",
    "# 'Floater_QS_003_202303270630.csv'\n",
    "# 'SBB_BS_003_202303270530.csv'\n",
    "# 'Glider_HY-BX_001_Pro002_taskframe.csv'\n",
    "# '39-319485-001.txt'\n",
    "# 'FOP_FB_001_Pro003_202303270530.csv'\n",
    "# 'AWG_HYY_038_202404200530.csv'\n",
    "# 'WPV_WP_001_202405091735.csv'"
   ]
  },
  {
   "cell_type": "code",
   "execution_count": 34,
   "metadata": {},
   "outputs": [
    {
     "name": "stdout",
     "output_type": "stream",
     "text": [
      "收到大载荷风驱动航行器WPV数据\n"
     ]
    }
   ],
   "source": [
    "if file_name.startswith('Glider') and file_name.endswith('csv'):\n",
    "    print('收到水下滑翔机Glider任务帧数据')\n",
    "elif file_name.startswith('Floater') and file_name.endswith('csv'):\n",
    "    print('收到海面小浮子Floater数据')\n",
    "elif file_name.startswith('FOP') and file_name.endswith('csv'):\n",
    "    print('收到易布放固定观测平台FOP数据')\n",
    "elif file_name.startswith('SBB') and file_name.endswith('csv'):\n",
    "    print('收到小型海床基SBB数据')\n",
    "elif file_name.startswith('WPV') and file_name.endswith('csv'):\n",
    "    print('收到大载荷风驱动航行器WPV数据')\n",
    "elif file_name.startswith('AWG') and file_name.endswith('csv'):\n",
    "    print('收到机动运载波浪滑翔器AWG数据')\n",
    "elif file_name.endswith('txt'):\n",
    "    print('收到剖面漂流浮标Argo数据')"
   ]
  },
  {
   "cell_type": "code",
   "execution_count": 2,
   "metadata": {},
   "outputs": [
    {
     "name": "stdout",
     "output_type": "stream",
     "text": [
      "正在发送文件名...\n",
      "文件名发送成功\n",
      "开始向服务器发送数据...\n",
      "time.csv   数据传输完成...\n",
      "正在发送文件名...\n",
      "发送文件名时出错: [WinError 10053] 你的主机中的软件中止了一个已建立的连接。\n"
     ]
    },
    {
     "ename": "ConnectionAbortedError",
     "evalue": "[WinError 10053] 你的主机中的软件中止了一个已建立的连接。",
     "output_type": "error",
     "traceback": [
      "\u001b[1;31m---------------------------------------------------------------------------\u001b[0m",
      "\u001b[1;31mConnectionAbortedError\u001b[0m                    Traceback (most recent call last)",
      "Cell \u001b[1;32mIn[2], line 60\u001b[0m\n\u001b[0;32m     57\u001b[0m     s\u001b[38;5;241m.\u001b[39mclose()\n\u001b[0;32m     59\u001b[0m \u001b[38;5;28;01mif\u001b[39;00m \u001b[38;5;18m__name__\u001b[39m \u001b[38;5;241m==\u001b[39m \u001b[38;5;124m'\u001b[39m\u001b[38;5;124m__main__\u001b[39m\u001b[38;5;124m'\u001b[39m:\n\u001b[1;32m---> 60\u001b[0m     \u001b[43msocket_client\u001b[49m\u001b[43m(\u001b[49m\u001b[43m)\u001b[49m\n",
      "Cell \u001b[1;32mIn[2], line 52\u001b[0m, in \u001b[0;36msocket_client\u001b[1;34m()\u001b[0m\n\u001b[0;32m     50\u001b[0m         \u001b[38;5;28;01mbreak\u001b[39;00m\n\u001b[0;32m     51\u001b[0m     \u001b[38;5;28;01mif\u001b[39;00m os\u001b[38;5;241m.\u001b[39mpath\u001b[38;5;241m.\u001b[39misfile(filepath):\n\u001b[1;32m---> 52\u001b[0m         \u001b[43msend_file\u001b[49m\u001b[43m(\u001b[49m\u001b[43ms\u001b[49m\u001b[43m,\u001b[49m\u001b[43m \u001b[49m\u001b[43mfilepath\u001b[49m\u001b[43m)\u001b[49m\n\u001b[0;32m     54\u001b[0m \u001b[38;5;66;03m# 等待一段时间以确保服务端发送完数据后客户端不会立即关闭连接\u001b[39;00m\n\u001b[0;32m     55\u001b[0m time\u001b[38;5;241m.\u001b[39msleep(\u001b[38;5;241m1\u001b[39m) \u001b[38;5;66;03m# 根据实际情况调整等待时间\u001b[39;00m\n",
      "Cell \u001b[1;32mIn[2], line 12\u001b[0m, in \u001b[0;36msend_file\u001b[1;34m(s, filepath)\u001b[0m\n\u001b[0;32m     10\u001b[0m \u001b[38;5;66;03m# 发送文件名长度\u001b[39;00m\n\u001b[0;32m     11\u001b[0m file_name_encoded \u001b[38;5;241m=\u001b[39m file_name\u001b[38;5;241m.\u001b[39mencode(\u001b[38;5;124m'\u001b[39m\u001b[38;5;124mutf-8\u001b[39m\u001b[38;5;124m'\u001b[39m)\n\u001b[1;32m---> 12\u001b[0m \u001b[43ms\u001b[49m\u001b[38;5;241;43m.\u001b[39;49m\u001b[43msend\u001b[49m\u001b[43m(\u001b[49m\u001b[38;5;28;43mlen\u001b[39;49m\u001b[43m(\u001b[49m\u001b[43mfile_name_encoded\u001b[49m\u001b[43m)\u001b[49m\u001b[38;5;241;43m.\u001b[39;49m\u001b[43mto_bytes\u001b[49m\u001b[43m(\u001b[49m\u001b[38;5;241;43m2\u001b[39;49m\u001b[43m,\u001b[49m\u001b[43m \u001b[49m\u001b[43mbyteorder\u001b[49m\u001b[38;5;241;43m=\u001b[39;49m\u001b[38;5;124;43m'\u001b[39;49m\u001b[38;5;124;43mbig\u001b[39;49m\u001b[38;5;124;43m'\u001b[39;49m\u001b[43m)\u001b[49m\u001b[43m)\u001b[49m\n\u001b[0;32m     14\u001b[0m \u001b[38;5;66;03m# 发送文件名\u001b[39;00m\n\u001b[0;32m     15\u001b[0m \u001b[38;5;28;01mtry\u001b[39;00m:\n",
      "\u001b[1;31mConnectionAbortedError\u001b[0m: [WinError 10053] 你的主机中的软件中止了一个已建立的连接。"
     ]
    }
   ],
   "source": [
    "import socket\n",
    "import os\n",
    "import sys\n",
    "import time\n",
    "\n",
    "def send_file(s, filepath):\n",
    "    file_name = os.path.basename(filepath)\n",
    "    file_size = os.path.getsize(filepath)\n",
    "    \n",
    "    # 发送文件名长度\n",
    "    file_name_encoded = file_name.encode('utf-8')\n",
    "    s.send(len(file_name_encoded).to_bytes(2, byteorder='big'))\n",
    "    \n",
    "    # 发送文件名\n",
    "    try:\n",
    "        print('正在发送文件名...')\n",
    "        s.send(file_name_encoded)\n",
    "        print('文件名发送成功')\n",
    "    except Exception as e:\n",
    "        print(\"发送文件名时出错:\", e)\n",
    "        return\n",
    "\n",
    "    # 发送文件大小\n",
    "    s.send(file_size.to_bytes(8, byteorder='big'))\n",
    "    \n",
    "    # 发送文件数据\n",
    "    with open(filepath, 'rb') as fp:\n",
    "        print('开始向服务器发送数据...')\n",
    "        while True:\n",
    "            data = fp.read(1024)\n",
    "            if not data:\n",
    "                print('{0} 数据传输完成...'.format(file_name))\n",
    "                break\n",
    "            s.send(data)\n",
    "        # 添加延时等待，等待一段时间再关闭连接\n",
    "        # 否则还没发送完就关闭连接了\n",
    "        time.sleep(1) # 所以这个值可以变大，以免报错\n",
    "\n",
    "def socket_client():\n",
    "    try:\n",
    "        s = socket.socket(socket.AF_INET, socket.SOCK_STREAM)\n",
    "        s.connect(('127.0.0.1', 8001))  # 修改为服务端的IP地址和端口号\n",
    "    except socket.error as msg:\n",
    "        print(msg)\n",
    "        sys.exit(1)\n",
    "    \n",
    "    while True:\n",
    "        filepath = input(\"请输入文件路径：\\n\")\n",
    "        if filepath == 'exit':\n",
    "            break\n",
    "        if os.path.isfile(filepath):\n",
    "            send_file(s, filepath)\n",
    "\n",
    "    # 等待一段时间以确保服务端发送完数据后客户端不会立即关闭连接\n",
    "    time.sleep(1) # 根据实际情况调整等待时间\n",
    "\n",
    "    s.close()\n",
    "\n",
    "if __name__ == '__main__':\n",
    "    socket_client()\n"
   ]
  }
 ],
 "metadata": {
  "kernelspec": {
   "display_name": "dataprocess",
   "language": "python",
   "name": "python3"
  },
  "language_info": {
   "codemirror_mode": {
    "name": "ipython",
    "version": 3
   },
   "file_extension": ".py",
   "mimetype": "text/x-python",
   "name": "python",
   "nbconvert_exporter": "python",
   "pygments_lexer": "ipython3",
   "version": "3.9.17"
  }
 },
 "nbformat": 4,
 "nbformat_minor": 2
}
