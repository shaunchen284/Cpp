{
 "cells": [
  {
   "cell_type": "code",
   "execution_count": 76,
   "metadata": {},
   "outputs": [],
   "source": [
    "import pandas as pd\n",
    "import numpy as np\n",
    "import netCDF4 as nc"
   ]
  },
  {
   "cell_type": "code",
   "execution_count": 77,
   "metadata": {},
   "outputs": [],
   "source": [
    "# 处理 CSV 文件的函数\n",
    "def process_csv(file_path):\n",
    "    # 读取文件并剔除异常数据\n",
    "    df = pd.read_csv(file_path,encoding='gb2312')\n",
    "    df = df[['天','时','分', '秒','经度','纬度','空气温度','大气压强','空气湿度','绝对风速','绝对风向','10分钟平均绝对风速','10分钟平均绝对风向','CTD深度','CTD温度','CTD盐度']]\n",
    "    # 提取文件名的时间\n",
    "    name = file_path.split('\\\\')[-1] \n",
    "    extract_time = name.split('_')[-1][:12] # '202405091735'\n",
    "    hour = int(df['时'].iloc[0]); minute = int(df['分'].iloc[0]); second = int(df['秒'].iloc[0])\n",
    "    hour = '{:02d}'.format(hour)\n",
    "    minute = '{:02d}'.format(minute)\n",
    "    second = '{:02d}'.format(second)\n",
    "    time = extract_time[:8] + hour + minute + second\n",
    "    df['时间'] = time\n",
    "    index_temp = (df['CTD温度'] < 40.0) &(df['CTD温度'] > -2.5)\n",
    "    df = df[index_temp]\n",
    "    index_salt = (df['CTD盐度'] < 41.0) &(df['CTD盐度'] > 0)\n",
    "    df = df[index_salt]\n",
    "    index_pre = df['CTD深度'] > 0\n",
    "    df = df[index_pre]\n",
    "    return df"
   ]
  },
  {
   "cell_type": "code",
   "execution_count": 78,
   "metadata": {},
   "outputs": [],
   "source": [
    "file_path = r'C:\\Users\\lenovo\\Desktop\\WPV\\WPV_WP_001_202405091735.csv'\n",
    "df = process_csv(file_path)\n"
   ]
  },
  {
   "cell_type": "code",
   "execution_count": 79,
   "metadata": {},
   "outputs": [
    {
     "data": {
      "text/html": [
       "<div>\n",
       "<style scoped>\n",
       "    .dataframe tbody tr th:only-of-type {\n",
       "        vertical-align: middle;\n",
       "    }\n",
       "\n",
       "    .dataframe tbody tr th {\n",
       "        vertical-align: top;\n",
       "    }\n",
       "\n",
       "    .dataframe thead th {\n",
       "        text-align: right;\n",
       "    }\n",
       "</style>\n",
       "<table border=\"1\" class=\"dataframe\">\n",
       "  <thead>\n",
       "    <tr style=\"text-align: right;\">\n",
       "      <th></th>\n",
       "      <th>天</th>\n",
       "      <th>时</th>\n",
       "      <th>分</th>\n",
       "      <th>秒</th>\n",
       "      <th>经度</th>\n",
       "      <th>纬度</th>\n",
       "      <th>空气温度</th>\n",
       "      <th>大气压强</th>\n",
       "      <th>空气湿度</th>\n",
       "      <th>绝对风速</th>\n",
       "      <th>绝对风向</th>\n",
       "      <th>10分钟平均绝对风速</th>\n",
       "      <th>10分钟平均绝对风向</th>\n",
       "      <th>CTD深度</th>\n",
       "      <th>CTD温度</th>\n",
       "      <th>CTD盐度</th>\n",
       "      <th>时间</th>\n",
       "    </tr>\n",
       "  </thead>\n",
       "  <tbody>\n",
       "    <tr>\n",
       "      <th>0</th>\n",
       "      <td>1</td>\n",
       "      <td>9</td>\n",
       "      <td>20</td>\n",
       "      <td>11</td>\n",
       "      <td>117.067902</td>\n",
       "      <td>39.098915</td>\n",
       "      <td>14</td>\n",
       "      <td>1</td>\n",
       "      <td>0</td>\n",
       "      <td>0.3</td>\n",
       "      <td>62.5</td>\n",
       "      <td>56</td>\n",
       "      <td>23.98</td>\n",
       "      <td>100</td>\n",
       "      <td>25</td>\n",
       "      <td>35</td>\n",
       "      <td>20240509092011</td>\n",
       "    </tr>\n",
       "  </tbody>\n",
       "</table>\n",
       "</div>"
      ],
      "text/plain": [
       "   天  时   分   秒          经度         纬度  空气温度  大气压强  空气湿度  绝对风速  绝对风向  \\\n",
       "0  1  9  20  11  117.067902  39.098915    14     1     0   0.3  62.5   \n",
       "\n",
       "   10分钟平均绝对风速  10分钟平均绝对风向  CTD深度  CTD温度  CTD盐度              时间  \n",
       "0          56       23.98    100     25     35  20240509092011  "
      ]
     },
     "execution_count": 79,
     "metadata": {},
     "output_type": "execute_result"
    }
   ],
   "source": [
    "df"
   ]
  },
  {
   "cell_type": "code",
   "execution_count": 80,
   "metadata": {},
   "outputs": [
    {
     "data": {
      "text/plain": [
       "'20240509092011'"
      ]
     },
     "execution_count": 80,
     "metadata": {},
     "output_type": "execute_result"
    }
   ],
   "source": [
    "df['时间'].iloc[0]"
   ]
  },
  {
   "cell_type": "code",
   "execution_count": 81,
   "metadata": {},
   "outputs": [
    {
     "data": {
      "text/plain": [
       "'20240509092011'"
      ]
     },
     "execution_count": 81,
     "metadata": {},
     "output_type": "execute_result"
    }
   ],
   "source": [
    "str(df['时间'].iloc[0])"
   ]
  },
  {
   "cell_type": "code",
   "execution_count": 82,
   "metadata": {},
   "outputs": [],
   "source": [
    "def nc_generate(df,new_path,file_path,lon2 = 105.21,lat2 = 15.11,ReleaseTime = '2022-12-11 14:03:07 UTC',ReleaseLongitude = '111.8444°E',ReleaseLatitude = '17.4169°N',Comment = 'quality control data',information ='') :\n",
    "    # WPV_Type:'HZZ' lon2:105.21 lat2:15.11 deploy_time:202303270530(整数就可以，字符串也可以)\n",
    "    name = file_path.split('\\\\')[-1] # 'WPV_HYY_003_202303270530.csv'\n",
    "    WPV_Type = name.split('_')[1]\n",
    "    deviceID = name.split('_')[2]\n",
    "    \n",
    "    time = df['时间']\n",
    "    lon = round(df['经度'].iloc[-1],4)\n",
    "    lat = round(df['纬度'].iloc[-1],4) \n",
    "    ssat = round(df['空气温度'],2)\n",
    "    ssap = round(df['大气压强'],4)\n",
    "    rh = round(df['空气湿度'],4)\n",
    "    true_wind_speed = round(df['绝对风速'],2)\n",
    "    true_wind_dir = round(df['绝对风向'],2)\n",
    "    true_wind_speed_average = round(df['10分钟平均绝对风速'],2)\n",
    "    true_wind_dir_average = round(df['10分钟平均绝对风向'],2)\n",
    "    seawater_pressure = round(df['CTD深度'],3)\n",
    "    seawater_temperature = round(df['CTD温度'],4)\n",
    "    seawater_salinity = round(df['CTD盐度'],4)\n",
    "    import seawater\n",
    "    seawater_density = seawater.dens(seawater_salinity, seawater_temperature, seawater_pressure)\n",
    "    seawater_sound_velocity = seawater.svel(seawater_salinity, seawater_temperature, seawater_pressure)\n",
    "    seawater_density = np.round(seawater_density,4); seawater_sound_velocity = np.round(seawater_sound_velocity,4); \n",
    "\n",
    "    num_row = df.shape[0] # 获取数据行数，为 node_dim准备\n",
    "    # 创建nc文件\n",
    "    format = 'NETCDF3_CLASSIC'\n",
    "    last_time = str(time[0])[:12]\n",
    "    filename = f'WPV_{WPV_Type}_{deviceID}_{lon2}E_{lat2}N_{last_time}_Q.nc'\n",
    "    file  = nc.Dataset(new_path+'/'+f'{filename}', 'w',format= format)\n",
    "\n",
    "    # 创建维度\n",
    "    node_dim = file.createDimension('num_node',num_row)\n",
    "    lon_dim = file.createDimension('num_longitude',1)\n",
    "    lat_dim = file.createDimension('num_latitude',1)\n",
    "    time_dim = file.createDimension('num_time',num_row)\n",
    "\n",
    "    # 创建变量\n",
    "    time_var = file.createVariable('time','f8',('num_time',))\n",
    "    lon_var = file.createVariable('longitude','f4',('num_longitude',))\n",
    "    lat_var = file.createVariable('latitude','f4',('num_latitude',))\n",
    "        # 'Latitude': 这是新创建的变量的名称\n",
    "        # 'f4': 这指定了变量的数据类型。'f8'代表64位浮点数（双精度）\n",
    "        # ('Latitude',):指定新变量所依赖的维度，('Latitude',)创建元组，而 ('Latitude')为一个字符串\n",
    "    ssat_var = file.createVariable('ssat','f4',('num_node',))\n",
    "    ssap_var = file.createVariable('ssap','f4',('num_node',))\n",
    "    rh_var = file.createVariable('rh','f4',('num_node',))\n",
    "    true_wind_speed_var = file.createVariable('true_wind_speed','f4',('num_node',))\n",
    "    true_wind_dir_var = file.createVariable('true_wind_dir','f4',('num_node',))\n",
    "    true_wind_speed_average_var = file.createVariable('true_wind_speed_average','f4',('num_node',))\n",
    "    true_wind_dir_average_var = file.createVariable('true_wind_dir_average','f4',('num_node',))\n",
    "    seawater_pressure_var = file.createVariable('seawater_pressure','f4',('num_node',))\n",
    "    seawater_temperature_var = file.createVariable('seawater_temperature','f4',('num_node',))\n",
    "    seawater_salinity_var = file.createVariable('seawater_salinity','f4',('num_node',))\n",
    "    seawater_density_var = file.createVariable('seawater_density','f4',('num_node',))\n",
    "    seawater_sound_velocity_var = file.createVariable('seawater_sound_velocity','f4',('num_node',))\n",
    "    # 添加属性\n",
    "    time_var.long_name=\"the time observed by the WPV\"\n",
    "    lon_var.long_name = 'the longitude located by the WPV' \n",
    "    lon_var.units = \"degrees_east\" \n",
    "    lat_var.long_name = 'the latitude located by the WPV'\n",
    "    lat_var.units = \"degrees_north\"\n",
    "    ssat_var.long_name = \"the sea surface air temperature observed by the WPV\"\n",
    "    ssat_var.units = \"Celsius\"\n",
    "    ssap_var.long_name = \"the sea surface air pressure observed by the WPV\"\n",
    "    ssap_var.units = \"kPa\" \n",
    "    rh_var.long_name = \"the sea surface humidity observed by the WPV\"\n",
    "    rh_var.units = \"%\" \n",
    "    true_wind_speed_var.long_name =  \"the sea surface true wind speed observed by the WPV\"\n",
    "    true_wind_speed_var.units = \"m/s\" \n",
    "    true_wind_dir_var.long_name = \"the sea surface true wind direction observed by the WPV\"\n",
    "    true_wind_dir_var.units = \"degree\" \n",
    "    true_wind_speed_average_var.long_name = 'the sea surface average true wind speed in ten minutes observed by the WPV'\n",
    "    true_wind_speed_average_var.units = \"m/s\" \n",
    "    true_wind_dir_average_var.long_name = 'the sea surface average true wind direction in ten minutes observed by the WPV'\n",
    "    true_wind_dir_average_var.units = \"degree\"\n",
    "    seawater_pressure_var.long_name = 'the seawater pressure observed by the WPV'\n",
    "    seawater_pressure_var.units = \"dbar\"\n",
    "    seawater_temperature_var.long_name = 'the seawater temperature observed by the WPV'\n",
    "    seawater_temperature_var.units = \"Celsius\"\n",
    "    seawater_salinity_var.long_name = 'the seawater salinity observed by the WPV'\n",
    "    seawater_salinity_var.units = \"PSU\"\n",
    "    seawater_density_var.long_name = 'the seawater density observed by the WPV'\n",
    "    seawater_density_var.units = \"kg/m3\"\n",
    "    seawater_sound_velocity_var.long_name = 'the seawater sound velocity observed by the WPV'\n",
    "    seawater_sound_velocity_var.units = \"m/s\"\n",
    "    \n",
    "    # 变量中写入数据\n",
    "        # 必须time_var[:] = time_data，不可以time_var= time_data\n",
    "        # 使用createVariable方法创建一个变量后，这个变量实际上是一个特殊的对象，它代表netCDF文件中的一个数据区域。\n",
    "        # time_var = time_data会改变time_var的引用，而不是修改它所代表的数据区域的内容\n",
    "        # 相反，time_var[:]是用来引用该变量整个数据区域的一个“切片”\n",
    "        # time_var[:] = time_data 实际上是将time_data数组中的数据复制到time_var所代表的数据区域中\n",
    "    time_var[:] = time\n",
    "    lon_var[:] = lon\n",
    "    lat_var[:] = lat\n",
    "    ssat_var[:] = ssat\n",
    "    ssap_var[:] = ssap\n",
    "    rh_var[:] = rh\n",
    "    true_wind_speed_var[:] = true_wind_speed\n",
    "    true_wind_dir_var[:] = true_wind_dir\n",
    "    true_wind_speed_average_var[:] = true_wind_speed_average\n",
    "    true_wind_dir_average_var[:] = true_wind_dir_average\n",
    "    seawater_pressure_var[:] = seawater_pressure\n",
    "    seawater_temperature_var[:] = seawater_temperature\n",
    "    seawater_salinity_var[:] = seawater_salinity\n",
    "    seawater_density_var[:] = seawater_density\n",
    "    seawater_sound_velocity_var[:] = seawater_sound_velocity\n",
    "\n",
    "    # 全局属性(需要放到最后来，不然添加不上全局属性)\n",
    "    file.WPV_SN = WPV_Type + '_' + deviceID\n",
    "    file.WPV_ReleaseTime = ReleaseTime\n",
    "    file.WPV_ReleaseLongitude = ReleaseLongitude\n",
    "    file.WPV_ReleaseLatitude = ReleaseLatitude\n",
    "    file.Sensor_accuracy = ''\n",
    "    file.Comment = Comment\n",
    "    file.Information = information\n",
    "    file.Manufacturer = '天津大学'\n",
    "    file.Source = 'Wei Ma, TianJin University, wei.ma@tju.edu.cn'\n",
    "    import datetime\n",
    "    import pytz\n",
    "    current_time = datetime.datetime.now() # 获取当前时间\n",
    "    utc_time = current_time.astimezone(pytz.utc) # 将当前时间转换为 UTC 时间\n",
    "    formatted_utc_time = utc_time.strftime(\"%Y-%m-%d %H:%M:%S %Z\") # 格式化并显示 UTC 时间\n",
    "    time_now = str(formatted_utc_time)[:19]\n",
    "    file.History = f'Created by Python at {time_now} UTC'\n",
    "\n",
    "    file.close() # 关闭文件\n",
    "    nc_path = new_path+'/'+f'{filename}'\n",
    "    return nc_path.replace('\\\\', '/')"
   ]
  },
  {
   "cell_type": "code",
   "execution_count": 83,
   "metadata": {},
   "outputs": [
    {
     "data": {
      "text/plain": [
       "'C:/Users/lenovo/Desktop/WPV/WPV_WP_001_105.21E_15.11N_202405090920_Q.nc'"
      ]
     },
     "execution_count": 83,
     "metadata": {},
     "output_type": "execute_result"
    }
   ],
   "source": [
    "file_path = r'C:\\Users\\lenovo\\Desktop\\WPV\\WPV_WP_001_202405091735.csv'\n",
    "df = process_csv(file_path=file_path)\n",
    "# new_path = r'C:\\Users\\lenovo\\Desktop\\java\\Glider05'\n",
    "new_path = r'C:\\Users\\lenovo\\Desktop\\WPV' #'C:/Users/lenovo/Desktop/java/Glider05'  'C:/Users/lenovo/Desktop/任务帧nc数据'\n",
    "Glider_Type = 'HY-BX' ;lon2 = 105.21 ;lat2 = 15.11 \n",
    "nc_generate(df,new_path,file_path,lon2,lat2)"
   ]
  }
 ],
 "metadata": {
  "kernelspec": {
   "display_name": "dataprocess",
   "language": "python",
   "name": "python3"
  },
  "language_info": {
   "codemirror_mode": {
    "name": "ipython",
    "version": 3
   },
   "file_extension": ".py",
   "mimetype": "text/x-python",
   "name": "python",
   "nbconvert_exporter": "python",
   "pygments_lexer": "ipython3",
   "version": "3.9.17"
  }
 },
 "nbformat": 4,
 "nbformat_minor": 2
}
