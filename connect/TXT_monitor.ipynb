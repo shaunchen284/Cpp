{
 "cells": [
  {
   "cell_type": "code",
   "execution_count": 1,
   "metadata": {},
   "outputs": [],
   "source": [
    "from watchdog.observers import Observer\n",
    "from watchdog.events import FileSystemEventHandler\n",
    "import time\n",
    "from queue import Queue\n",
    "from ARGO_txt_processor import TXTProcessor\n",
    "from ARGO_TCP_client import Socket_Client"
   ]
  },
  {
   "cell_type": "code",
   "execution_count": 2,
   "metadata": {},
   "outputs": [],
   "source": [
    "class MyHandler(FileSystemEventHandler):\n",
    "    def __init__(self, queue):\n",
    "        super().__init__()\n",
    "        self.queue = queue\n",
    "\n",
    "    def on_created(self, event):\n",
    "        if not event.is_directory and event.src_path.endswith('.txt'):\n",
    "            print(\"New TXT file detected:\", event.src_path)\n",
    "            self.queue.put(event.src_path)  # 将文件路径放入队列中\n",
    "            \n",
    "def watch_folder(folder_path, new_path, server_ip, server_port):\n",
    "    queue = Queue()\n",
    "    event_handler = MyHandler(queue)\n",
    "    observer = Observer()\n",
    "    observer.schedule(event_handler, folder_path, recursive=False)\n",
    "    observer.start()\n",
    "    print(\"Watching folder for new TXT files...\")\n",
    "    \n",
    "    try:\n",
    "        while True:\n",
    "            if not queue.empty():\n",
    "                file_path = queue.get()\n",
    "                print(f\"Processed file: {file_path}\")\n",
    "\n",
    "                data, DRIFT, profile_data, deviceID, profileID, Argo_SN =  TXTProcessor.extract_data(file_path=file_path)\n",
    "                new_path = new_path \n",
    "                nc_path = TXTProcessor.nc_generate(data,DRIFT,profile_data,new_path,Argo_Type = 'HM-B',deviceID = deviceID,profileID = profileID,lon2 = 105.21,lat2 = 15.11,deploy_time =202303270530,Argo_SN = Argo_SN,ReleaseTime = '2022-12-11 14:03:07 UTC',ReleaseLongitude = '111.8444°E',ReleaseLatitude = '17.4169°N',information = '')\n",
    "                \n",
    "                # 在这里调用客户端发送文件的函数，并传递文件路径、服务端IP和端口号\n",
    "                s = Socket_Client()\n",
    "                s.socket_client(nc_path, server_ip, server_port)\n",
    "                \n",
    "                print('文件发送完毕')\n",
    "            time.sleep(1)\n",
    "    except KeyboardInterrupt:\n",
    "        observer.stop()\n",
    "    observer.join()\n"
   ]
  },
  {
   "cell_type": "code",
   "execution_count": 8,
   "metadata": {},
   "outputs": [
    {
     "name": "stdout",
     "output_type": "stream",
     "text": [
      "Watching folder for new TXT files...\n",
      "New TXT file detected: C:\\Users\\lenovo\\Desktop\\319485\\test\\39-319485-004.txt\n",
      "New TXT file detected: C:\\Users\\lenovo\\Desktop\\319485\\test\\39-319485-004.txt\n",
      "Processed file: C:\\Users\\lenovo\\Desktop\\319485\\test\\39-319485-004.txt\n",
      "DRIFT为空\n",
      "Connected to server.\n",
      "Argo_HM-B_900299_Pro4_105.21E_15.11N_202303270530_Q.nc 数据传输完成...\n",
      "文件发送完毕\n",
      "New TXT file detected:New TXT file detected: C:\\Users\\lenovo\\Desktop\\319485\\test\\39-319485-006.txt\n",
      " C:\\Users\\lenovo\\Desktop\\319485\\test\\39-319485-006.txt\n",
      "Processed file: C:\\Users\\lenovo\\Desktop\\319485\\test\\39-319485-006.txt\n",
      "DRIFT为空\n",
      "Connected to server.\n",
      "Argo_HM-B_900299_Pro6_105.21E_15.11N_202303270530_Q.nc 数据传输完成...\n",
      "文件发送完毕\n"
     ]
    }
   ],
   "source": [
    "folder_path = r'C:\\Users\\lenovo\\Desktop\\319485\\test'  # 监控文件夹的路径\n",
    "new_path = r'C:\\Users\\lenovo\\Desktop\\319485\\nc_test'  # 新文件转换后保存的路径\n",
    "server_ip = '127.0.0.1'  # 服务端的 IP 地址\n",
    "server_port = 8001  # 服务端的端口号\n",
    "\n",
    "# 启动监控文件夹并发送文件到服务端\n",
    "watch_folder(folder_path, new_path, server_ip, server_port)"
   ]
  }
 ],
 "metadata": {
  "kernelspec": {
   "display_name": "dataprocess",
   "language": "python",
   "name": "python3"
  },
  "language_info": {
   "codemirror_mode": {
    "name": "ipython",
    "version": 3
   },
   "file_extension": ".py",
   "mimetype": "text/x-python",
   "name": "python",
   "nbconvert_exporter": "python",
   "pygments_lexer": "ipython3",
   "version": "3.9.17"
  }
 },
 "nbformat": 4,
 "nbformat_minor": 2
}
