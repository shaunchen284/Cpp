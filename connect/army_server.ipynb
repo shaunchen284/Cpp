{
 "cells": [
  {
   "cell_type": "code",
   "execution_count": 1,
   "metadata": {},
   "outputs": [],
   "source": [
    "import socket\n",
    "import os\n",
    "import threading"
   ]
  },
  {
   "cell_type": "code",
   "execution_count": null,
   "metadata": {},
   "outputs": [],
   "source": [
    "def socket_service():\n",
    "    try:\n",
    "        s = socket.socket(socket.AF_INET, socket.SOCK_STREAM)\n",
    "        s.setsockopt(socket.SOL_SOCKET, socket.SO_REUSEADDR, 1)\n",
    "        s.bind(('192.168.11.200', 9002))\n",
    "        s.listen(10)\n",
    "    except socket.error as msg:\n",
    "        print(msg)\n",
    "        os.sys.exit(1)\n",
    "    print('等待连接...')\n",
    "\n",
    "    while True:\n",
    "        conn, addr = s.accept()\n",
    "        t = threading.Thread(target=deal_data, args=(conn, addr))\n",
    "        t.start()"
   ]
  },
  {
   "cell_type": "code",
   "execution_count": null,
   "metadata": {},
   "outputs": [],
   "source": [
    "def deal_data(conn, addr):\n",
    "    print('客户端地址为： {0}'.format(addr)) \n",
    "    try:\n",
    "        # 读取文件名长度信息\n",
    "        file_name_length = conn.recv(2)\n",
    "        file_name_length = int.from_bytes(file_name_length, byteorder='big')\n",
    "\n",
    "        # 读取文件名\n",
    "        file_name = conn.recv(file_name_length).decode('utf-8')\n",
    "        print('数据名为 {0}'.format(file_name))\n",
    "\n",
    "        # 读取文件大小信息\n",
    "        file_size_bytes = conn.recv(8)\n",
    "        file_size = int.from_bytes(file_size_bytes, byteorder='big')\n",
    "        print('数据大小为 {0}'.format(file_size))\n",
    "\n",
    "        recvd_size = 0\n",
    "        file_path = 'D:/recept/' + file_name\n",
    "        with open(file_path, 'wb') as fp:\n",
    "            print('开始接收客户端数据...')\n",
    "            while recvd_size < file_size:\n",
    "                data = conn.recv(1024)\n",
    "                if not data:\n",
    "                    break\n",
    "                recvd_size += len(data)\n",
    "                fp.write(data)\n",
    "            print('客户端数据接收完成...')\n",
    "    except Exception as e:\n",
    "        print(\"处理过程中出现异常: \", e)\n",
    "    finally:\n",
    "        conn.close()\n",
    "        print('连接已关闭。')"
   ]
  },
  {
   "cell_type": "code",
   "execution_count": null,
   "metadata": {},
   "outputs": [],
   "source": [
    "if __name__ == '__main__':\n",
    "    socket_service()"
   ]
  }
 ],
 "metadata": {
  "kernelspec": {
   "display_name": "dataprocess",
   "language": "python",
   "name": "python3"
  },
  "language_info": {
   "codemirror_mode": {
    "name": "ipython",
    "version": 3
   },
   "file_extension": ".py",
   "mimetype": "text/x-python",
   "name": "python",
   "nbconvert_exporter": "python",
   "pygments_lexer": "ipython3",
   "version": "3.9.17"
  }
 },
 "nbformat": 4,
 "nbformat_minor": 2
}
