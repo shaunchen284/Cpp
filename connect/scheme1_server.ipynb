{
 "cells": [
  {
   "cell_type": "code",
   "execution_count": 1,
   "metadata": {},
   "outputs": [],
   "source": [
    "import threading\n",
    "import socket\n",
    "import struct\n",
    "import os\n",
    "import sys"
   ]
  },
  {
   "cell_type": "code",
   "execution_count": 3,
   "metadata": {},
   "outputs": [],
   "source": [
    "def socket_service():\n",
    "    try:\n",
    "        s = socket.socket(socket.AF_INET, socket.SOCK_STREAM)\n",
    "        s.setsockopt(socket.SOL_SOCKET, socket.SO_REUSEADDR, 1)\n",
    "        s.bind(('192.168.11.250', 9001))\n",
    "        s.listen(10)\n",
    "    except socket.error as msg:\n",
    "        print(msg)\n",
    "        sys.exit(1)\n",
    "\n",
    "    print('等待连接...')\n",
    "    clients = {}  # 保存连接的字典\n",
    "\n",
    "    while True:\n",
    "        conn, addr = s.accept()\n",
    "        ip, port = addr\n",
    "        # 假设你已经知道哪个IP是发送者，哪个是接收者\n",
    "        if ip == '192.168.11.101':  # 发送者的IP\n",
    "            role = 'sender'\n",
    "        elif ip == '192.168.11.102':  # 接收者的IP\n",
    "            role = 'receiver'\n",
    "        else:\n",
    "            print(f\"未授权的客户端尝试连接: {ip}\")\n",
    "            conn.close()\n",
    "            continue\n",
    "\n",
    "        clients[role] = conn\n",
    "        threading.Thread(target=deal_data, args=(conn, addr, role, clients)).start()"
   ]
  },
  {
   "cell_type": "code",
   "execution_count": 4,
   "metadata": {},
   "outputs": [],
   "source": [
    "def deal_data(conn, addr, role, clients):\n",
    "    print(f'客户端地址为： {addr}, 角色为： {role}')\n",
    "    try:\n",
    "        if role == 'sender':\n",
    "            receive_file_from_sender(conn, addr, clients)\n",
    "        elif role == 'receiver':\n",
    "            print('接收者准备接收文件')\n",
    "    except Exception as e:\n",
    "        print(f\"处理过程中出现异常: {e}\")\n",
    "    finally:\n",
    "        conn.close()\n",
    "        print(f'{role}连接已关闭。')"
   ]
  },
  {
   "cell_type": "code",
   "execution_count": 5,
   "metadata": {},
   "outputs": [],
   "source": [
    "def receive_file_from_sender(conn, addr, clients):\n",
    "    fileinfo_size = struct.calcsize('128sl')\n",
    "    buf = conn.recv(fileinfo_size)\n",
    "    if buf:\n",
    "        filename, filesize = struct.unpack('128sl', buf)\n",
    "        fn = filename.strip(b'\\00').decode()\n",
    "        print(f'数据名为 {fn}, 数据大小为 {filesize}')\n",
    "        recvd_size = 0\n",
    "        with open(f'/path/to/store/{fn}', 'wb') as fp:\n",
    "            print('开始接收客户端数据...')\n",
    "            while recvd_size < filesize:\n",
    "                data = conn.recv(1024)\n",
    "                recvd_size += len(data)\n",
    "                fp.write(data)\n",
    "            print('客户端数据接收完成...')\n",
    "\n",
    "        if 'receiver' in clients:\n",
    "            send_file_to_receiver(fn, clients['receiver'])"
   ]
  },
  {
   "cell_type": "code",
   "execution_count": 6,
   "metadata": {},
   "outputs": [],
   "source": [
    "def send_file_to_receiver(filename, receiver_conn):\n",
    "    path = f'/path/to/store/{filename}'\n",
    "    with open(path, 'rb') as fp:\n",
    "        fileinfo = struct.pack('128sl', filename.encode('utf-8'), os.stat(path).st_size)\n",
    "        receiver_conn.send(fileinfo)\n",
    "        while True:\n",
    "            data = fp.read(1024)\n",
    "            if not data:\n",
    "                break\n",
    "            receiver_conn.send(data)\n",
    "        print(f'文件{filename}已发送到接收者')"
   ]
  },
  {
   "cell_type": "code",
   "execution_count": null,
   "metadata": {},
   "outputs": [],
   "source": [
    "socket_service()"
   ]
  }
 ],
 "metadata": {
  "kernelspec": {
   "display_name": "dataprocess",
   "language": "python",
   "name": "python3"
  },
  "language_info": {
   "codemirror_mode": {
    "name": "ipython",
    "version": 3
   },
   "file_extension": ".py",
   "mimetype": "text/x-python",
   "name": "python",
   "nbconvert_exporter": "python",
   "pygments_lexer": "ipython3",
   "version": "3.9.17"
  }
 },
 "nbformat": 4,
 "nbformat_minor": 2
}
