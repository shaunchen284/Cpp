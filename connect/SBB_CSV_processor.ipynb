{
 "cells": [
  {
   "cell_type": "code",
   "execution_count": 31,
   "metadata": {},
   "outputs": [],
   "source": [
    "import pandas as pd\n",
    "import numpy as np\n",
    "import netCDF4 as nc"
   ]
  },
  {
   "cell_type": "code",
   "execution_count": 32,
   "metadata": {},
   "outputs": [],
   "source": [
    "# 处理 CSV 文件的函数\n",
    "def process_csv(file_path):\n",
    "    # 读取文件并剔除异常数据\n",
    "    df = pd.read_csv(file_path,encoding='gb2312')\n",
    "    df['时间'] = pd.to_datetime(df['时间'])\n",
    "    # 将日期时间转换为所需的数字格式  2024-04-20 05:31:00 -> 20240420053100\n",
    "    df['时间'] = df['时间'].dt.strftime('%Y%m%d%H%M%S').astype('int64')\n",
    "    index_temp = (df['温度'] < 40.0)&(df['温度'] > -2.5)\n",
    "    df = df[index_temp]\n",
    "    return df"
   ]
  },
  {
   "cell_type": "code",
   "execution_count": 33,
   "metadata": {},
   "outputs": [],
   "source": [
    "file_path = r'C:\\Users\\lenovo\\Desktop\\海床基\\SBB_BS_003_202303270530.csv'\n",
    "# process_csv(file_path)\n",
    "name = file_path.split('\\\\')[-1]"
   ]
  },
  {
   "cell_type": "code",
   "execution_count": 34,
   "metadata": {},
   "outputs": [],
   "source": [
    "def nc_generate(df,new_path,file_path,longitude = 111.1234,latitude =23.1234, lon2 = 105.21,lat2 = 15.11,ReleaseTime = '2022-12-11 14:03:07 UTC',ReleaseLongitude = '111.8444°E',ReleaseLatitude = '17.4169°N',Comment = 'quality control data',information ='',Blanking = '0.5m',Cellsize = '8m',Cellnum = 10) :\n",
    "    # SBB_Type:'BS' lon2:105.21 lat2:15.11 deploy_time:202303270530(整数就可以，字符串也可以)\n",
    "    name = file_path.split('\\\\')[-1] # 'AWG_HYY_003_202303270530.csv'\n",
    "    SBB_Type = name.split('_')[1]\n",
    "    deviceID = name.split('_')[2]\n",
    "    \n",
    "    time = df['时间'][0]\n",
    "    longitude =np.round(longitude,4); latitude =np.round(latitude,4); \n",
    "    seawater_pressure = df['压力']; seawater_pressure = np.round(seawater_pressure,3); \n",
    "    seawater_temperature = df['温度']; seawater_temperature = np.round(seawater_temperature,4); \n",
    "    seawater_salinity = df['盐度']; seawater_salinity = np.round(seawater_salinity,4); \n",
    "\n",
    "    import seawater\n",
    "    seawater_density = seawater.dens(seawater_salinity, seawater_temperature, seawater_pressure)\n",
    "    seawater_sound_velocity = seawater.svel(seawater_salinity, seawater_temperature, seawater_pressure)\n",
    "    seawater_density = np.round(seawater_density,4); seawater_sound_velocity = np.round(seawater_sound_velocity,4); \n",
    "\n",
    "    subset = df.iloc[:, 7:]\n",
    "    data = np.array(subset)\n",
    "    data = data.reshape(-1,4)\n",
    "    curr_x = data[:,0]; curr_x = np.round(curr_x,3); \n",
    "    curr_y = data[:,1]; curr_y = np.round(curr_y,3); \n",
    "    curr_z1 = data[:,2]; curr_z1 = np.round(curr_z1,3); \n",
    "    curr_z2 = data[:,3]; curr_z2 = np.round(curr_z2,3); \n",
    "\n",
    "    heading = df['艏向']; heading = np.round(heading,2); \n",
    "    roll = df['横摇']; roll = np.round(roll,2); \n",
    "    pitch = df['纵摇']; pitch = np.round(pitch,2); \n",
    "    \n",
    "\n",
    "    num_row = df.shape[0] # 获取数据行数，为 node_dim准备\n",
    "    # 创建nc文件\n",
    "    format = 'NETCDF3_CLASSIC'\n",
    "    last_time = str(time)[:12]\n",
    "    filename = f'SBB_{SBB_Type}_{deviceID}_{lon2}E_{lat2}N_{last_time}_Q.nc'\n",
    "    file  = nc.Dataset(new_path+'/'+f'{filename}', 'w',format= format)\n",
    "\n",
    "    # 创建维度\n",
    "    \n",
    "    lon_dim = file.createDimension('num_longitude',1)\n",
    "    lat_dim = file.createDimension('num_latitude',1)\n",
    "    time_dim = file.createDimension('num_time',num_row) # num_row = 1\n",
    "    node_dim = file.createDimension('num_node',num_row)\n",
    "    cell_dim = file.createDimension('num_cell',Cellnum)\n",
    "\n",
    "    # 创建变量\n",
    "    time_var = file.createVariable('time','f8',('num_time',))\n",
    "    lon_var = file.createVariable('longitude','f4',('num_longitude',))\n",
    "    lat_var = file.createVariable('latitude','f4',('num_latitude',))\n",
    "        # 'Latitude': 这是新创建的变量的名称\n",
    "        # 'f4': 这指定了变量的数据类型。'f8'代表64位浮点数（双精度）\n",
    "        # ('Latitude',):指定新变量所依赖的维度，('Latitude',)创建元组，而 ('Latitude')为一个字符串\n",
    "    seawater_pressure_var = file.createVariable('seawater_pressure','f4',('num_node',))\n",
    "    seawater_temperature_var = file.createVariable('seawater_temperature','f4',('num_node',))\n",
    "    seawater_salinity_var = file.createVariable('seawater_salinity','f4',('num_node',))\n",
    "    seawater_density_var = file.createVariable('seawater_density','f4',('num_node',))\n",
    "    seawater_sound_velocity_var = file.createVariable('seawater_sound_velocity','f4',('num_node',))\n",
    "    curr_x_var = file.createVariable('curr_x','f4',('num_cell',))\n",
    "    curr_y_var = file.createVariable('curr_y','f4',('num_cell',))\n",
    "    curr_z1_var = file.createVariable('curr_z1','f4',('num_cell',))\n",
    "    curr_z2_var = file.createVariable('curr_z2','f4',('num_cell',))\n",
    "    heading_var = file.createVariable('heading','f4',('num_node',))\n",
    "    roll_var = file.createVariable('roll','f4',('num_node',))\n",
    "    pitch_var = file.createVariable('pitch','f4',('num_node',))\n",
    "\n",
    "    # 添加属性\n",
    "    time_var.long_name=\"the UTC time observed by the seabed\"\n",
    "    lon_var.long_name = 'the longitude of the deployed seabed' \n",
    "    lon_var.units = \"degrees_east\" \n",
    "    lat_var.long_name = 'the latitude of the deployed seabed'\n",
    "    lat_var.units = \"degrees_north\"\n",
    "    seawater_pressure_var.long_name = \"the seawater pressure observed by the seabed\"\n",
    "    seawater_pressure_var.units = \"dbar\"\n",
    "    seawater_temperature_var.long_name = \"the seawater temperature observed by the seabed\"\n",
    "    seawater_temperature_var.units = \"Celsius\" \n",
    "    seawater_salinity_var.long_name = \"the seawater salinity observed by the seabed\"\n",
    "    seawater_salinity_var.units = \"PSU\" \n",
    "    seawater_density_var.long_name =  \"the seawater density calculated from CTD\"\n",
    "    seawater_density_var.units = \"kg/m3\" \n",
    "    seawater_sound_velocity_var.long_name = \"the seawater sound velocity calculated from CTD\"\n",
    "    seawater_sound_velocity_var.units = \"m/s\" \n",
    "    curr_x_var.long_name = 'the current velocity profile of seawater in the X-axis observed by the seabed'\n",
    "    curr_x_var.units = \"m/s\" \n",
    "    curr_y_var.long_name = 'the current velocity profile of seawater in the Y-axis observed by the seabed'\n",
    "    curr_y_var.units = \"m/s\"\n",
    "    curr_z1_var.long_name = 'the current velocity profile of seawater in the Z1-axis observed by the seabed'\n",
    "    curr_z1_var.units = \"m/s\"\n",
    "    curr_z2_var.long_name = 'the current velocity profile of seawater in the Z2-axis observed by the seabed'\n",
    "    curr_z2_var.units = \" m/s\"\n",
    "    heading_var.long_name = 'the heading of ADCP integrated on the seabed'\n",
    "    heading_var.units = \"degree\"\n",
    "    roll_var.long_name = 'the roll of ADCP integrated on the seabed'\n",
    "    roll_var.units = \"degree\"\n",
    "    pitch_var.long_name = 'the pitch of ADCP integrated on the seabed'\n",
    "    pitch_var.units = \"degree\"\n",
    "    \n",
    "    # 变量中写入数据\n",
    "        # 必须time_var[:] = time_data，不可以time_var= time_data\n",
    "        # 使用createVariable方法创建一个变量后，这个变量实际上是一个特殊的对象，它代表netCDF文件中的一个数据区域。\n",
    "        # time_var = time_data会改变time_var的引用，而不是修改它所代表的数据区域的内容\n",
    "        # 相反，time_var[:]是用来引用该变量整个数据区域的一个“切片”\n",
    "        # time_var[:] = time_data 实际上是将time_data数组中的数据复制到time_var所代表的数据区域中\n",
    "    time_var[:] = time\n",
    "    lon_var[:] = longitude\n",
    "    lat_var[:] = latitude\n",
    "    seawater_pressure_var[:] = seawater_pressure\n",
    "    seawater_temperature_var[:] = seawater_temperature\n",
    "    seawater_salinity_var[:] = seawater_salinity\n",
    "    seawater_density_var[:] = seawater_density\n",
    "    seawater_sound_velocity_var[:] = seawater_sound_velocity\n",
    "    curr_x_var[:] = curr_x\n",
    "    curr_y_var[:] = curr_y\n",
    "    curr_z1_var[:] = curr_z1\n",
    "    curr_z2_var[:] = curr_z2\n",
    "    heading_var[:] = heading\n",
    "    roll_var[:] = roll\n",
    "    pitch_var[:] = pitch\n",
    "\n",
    "    # 全局属性(需要放到最后来，不然添加不上全局属性)\n",
    "    file.SBB_SN = SBB_Type + '_' + deviceID\n",
    "    file.SBB_ReleaseTime = ReleaseTime\n",
    "    file.SBB_ReleaseLongitude = ReleaseLongitude\n",
    "    file.SBB_ReleaseLatitude = ReleaseLatitude\n",
    "    file.Sensor_accuracy = 'temperature,Seabird37 CTD,±0.002℃;conductivity,Seabird37 CTD,+0.0003S/m;pressure,Seabird37 CTD,±0.1% of full scale range;curr_speed,xxx,±0.01m/s'\n",
    "    file.Comment = Comment\n",
    "    file.Information = information\n",
    "    file.Blanking = Blanking # 盲区厚度，如0.5m\n",
    "    file.Cellsize = Cellsize # 层厚，如8m\n",
    "    file.Cellnum = Cellnum # 层数，如10\n",
    "    file.Manufacturer = '崂山实验室'\n",
    "    file.Source = 'Wei Ma, TianJin University, wei.ma@tju.edu.cn'\n",
    "    import datetime\n",
    "    import pytz\n",
    "    current_time = datetime.datetime.now() # 获取当前时间\n",
    "    utc_time = current_time.astimezone(pytz.utc) # 将当前时间转换为 UTC 时间\n",
    "    formatted_utc_time = utc_time.strftime(\"%Y-%m-%d %H:%M:%S %Z\") # 格式化并显示 UTC 时间\n",
    "    time_now = str(formatted_utc_time)[:19]\n",
    "    file.History = f'Created by Python at {time_now} UTC'\n",
    "\n",
    "    file.close() # 关闭文件\n",
    "    nc_path = new_path+'/'+f'{filename}'\n",
    "    return nc_path.replace('\\\\', '/')"
   ]
  },
  {
   "cell_type": "code",
   "execution_count": 35,
   "metadata": {},
   "outputs": [
    {
     "data": {
      "text/plain": [
       "'C:/Users/lenovo/Desktop/SBB/SBB_BS_003_105.21E_15.11N_202404200531_Q.nc'"
      ]
     },
     "execution_count": 35,
     "metadata": {},
     "output_type": "execute_result"
    }
   ],
   "source": [
    "file_path = r'C:\\Users\\lenovo\\Desktop\\SBB\\SBB_BS_003_202303270530.csv'\n",
    "df = process_csv(file_path=file_path)\n",
    "# new_path = r'C:\\Users\\lenovo\\Desktop\\java\\Glider05'\n",
    "new_path = r'C:\\Users\\lenovo\\Desktop\\SBB' #'C:/Users/lenovo/Desktop/java/Glider05'  'C:/Users/lenovo/Desktop/任务帧nc数据'\n",
    "longitude = 111.1234; latitude =23.1234\n",
    "lon2 = 105.21 ;lat2 = 15.11 \n",
    "nc_generate(df,new_path,file_path,longitude,latitude,lon2,lat2)"
   ]
  },
  {
   "cell_type": "code",
   "execution_count": 36,
   "metadata": {},
   "outputs": [
    {
     "data": {
      "text/plain": [
       "20240420053100"
      ]
     },
     "execution_count": 36,
     "metadata": {},
     "output_type": "execute_result"
    }
   ],
   "source": [
    "time = df['时间'][0]\n",
    "last_time = str(time)[:12]\n",
    "last_time\n",
    "time"
   ]
  }
 ],
 "metadata": {
  "kernelspec": {
   "display_name": "dataprocess",
   "language": "python",
   "name": "python3"
  },
  "language_info": {
   "codemirror_mode": {
    "name": "ipython",
    "version": 3
   },
   "file_extension": ".py",
   "mimetype": "text/x-python",
   "name": "python",
   "nbconvert_exporter": "python",
   "pygments_lexer": "ipython3",
   "version": "3.9.17"
  }
 },
 "nbformat": 4,
 "nbformat_minor": 2
}
