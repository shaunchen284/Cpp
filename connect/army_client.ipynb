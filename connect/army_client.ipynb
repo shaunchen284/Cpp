{
 "cells": [
  {
   "cell_type": "code",
   "execution_count": 5,
   "metadata": {},
   "outputs": [],
   "source": [
    "import socket\n",
    "import os\n",
    "import sys\n",
    "import time"
   ]
  },
  {
   "cell_type": "code",
   "execution_count": 6,
   "metadata": {},
   "outputs": [],
   "source": [
    "def send_file(s, filepath):\n",
    "    file_name = os.path.basename(filepath)\n",
    "    file_size = os.path.getsize(filepath)\n",
    "    \n",
    "    # 发送文件名长度\n",
    "    file_name_encoded = file_name.encode('utf-8')\n",
    "    s.send(len(file_name_encoded).to_bytes(2, byteorder='big'))\n",
    "    \n",
    "    # 发送文件名\n",
    "    s.send(file_name_encoded)\n",
    "    \n",
    "    # 发送文件大小\n",
    "    s.send(file_size.to_bytes(8, byteorder='big'))\n",
    "    \n",
    "    # 发送文件数据\n",
    "    with open(filepath, 'rb') as fp:\n",
    "        print('开始向服务器发送数据...')\n",
    "        while True:\n",
    "            data = fp.read(1024)\n",
    "            if not data:\n",
    "                print('{0} 数据传输完成...'.format(file_name))\n",
    "                break\n",
    "            s.send(data)\n",
    "        # 添加延时等待，等待一段时间再关闭连接\n",
    "        # 否则还没发送完就关闭连接了\n",
    "        time.sleep(1) # 所以这个值可以变大，以免报错\n"
   ]
  },
  {
   "cell_type": "code",
   "execution_count": 7,
   "metadata": {},
   "outputs": [],
   "source": [
    "def socket_client():\n",
    "    try:\n",
    "        s = socket.socket(socket.AF_INET, socket.SOCK_STREAM)\n",
    "        # s.connect(('192.168.11.200', 9002))  # 修改为服务端的IP地址和端口号\n",
    "        s.connect(('127.0.0.1', 8001))  # 修改为服务端的IP地址和端口号\n",
    "        # ('127.0.0.1', 8001)\n",
    "    except socket.error as msg:\n",
    "        print(msg)\n",
    "        sys.exit(1)\n",
    "    \n",
    "    while True:\n",
    "        filepath = input(\"请输入文件路径：\\n\")\n",
    "        if filepath == 'exit':\n",
    "            break\n",
    "        if os.path.isfile(filepath):\n",
    "            send_file(s, filepath)\n",
    "\n",
    "    s.close()\n"
   ]
  },
  {
   "cell_type": "code",
   "execution_count": 8,
   "metadata": {},
   "outputs": [
    {
     "name": "stdout",
     "output_type": "stream",
     "text": [
      "开始向服务器发送数据...\n"
     ]
    },
    {
     "ename": "ConnectionAbortedError",
     "evalue": "[WinError 10053] 你的主机中的软件中止了一个已建立的连接。",
     "output_type": "error",
     "traceback": [
      "\u001b[1;31m---------------------------------------------------------------------------\u001b[0m",
      "\u001b[1;31mConnectionAbortedError\u001b[0m                    Traceback (most recent call last)",
      "Cell \u001b[1;32mIn[8], line 2\u001b[0m\n\u001b[0;32m      1\u001b[0m \u001b[38;5;28;01mif\u001b[39;00m \u001b[38;5;18m__name__\u001b[39m \u001b[38;5;241m==\u001b[39m \u001b[38;5;124m'\u001b[39m\u001b[38;5;124m__main__\u001b[39m\u001b[38;5;124m'\u001b[39m:\n\u001b[1;32m----> 2\u001b[0m     \u001b[43msocket_client\u001b[49m\u001b[43m(\u001b[49m\u001b[43m)\u001b[49m\n",
      "Cell \u001b[1;32mIn[7], line 16\u001b[0m, in \u001b[0;36msocket_client\u001b[1;34m()\u001b[0m\n\u001b[0;32m     14\u001b[0m         \u001b[38;5;28;01mbreak\u001b[39;00m\n\u001b[0;32m     15\u001b[0m     \u001b[38;5;28;01mif\u001b[39;00m os\u001b[38;5;241m.\u001b[39mpath\u001b[38;5;241m.\u001b[39misfile(filepath):\n\u001b[1;32m---> 16\u001b[0m         \u001b[43msend_file\u001b[49m\u001b[43m(\u001b[49m\u001b[43ms\u001b[49m\u001b[43m,\u001b[49m\u001b[43m \u001b[49m\u001b[43mfilepath\u001b[49m\u001b[43m)\u001b[49m\n\u001b[0;32m     18\u001b[0m s\u001b[38;5;241m.\u001b[39mclose()\n",
      "Cell \u001b[1;32mIn[6], line 23\u001b[0m, in \u001b[0;36msend_file\u001b[1;34m(s, filepath)\u001b[0m\n\u001b[0;32m     21\u001b[0m     \u001b[38;5;28mprint\u001b[39m(\u001b[38;5;124m'\u001b[39m\u001b[38;5;132;01m{0}\u001b[39;00m\u001b[38;5;124m 数据传输完成...\u001b[39m\u001b[38;5;124m'\u001b[39m\u001b[38;5;241m.\u001b[39mformat(file_name))\n\u001b[0;32m     22\u001b[0m     \u001b[38;5;28;01mbreak\u001b[39;00m\n\u001b[1;32m---> 23\u001b[0m \u001b[43ms\u001b[49m\u001b[38;5;241;43m.\u001b[39;49m\u001b[43msend\u001b[49m\u001b[43m(\u001b[49m\u001b[43mdata\u001b[49m\u001b[43m)\u001b[49m\n",
      "\u001b[1;31mConnectionAbortedError\u001b[0m: [WinError 10053] 你的主机中的软件中止了一个已建立的连接。"
     ]
    }
   ],
   "source": [
    "if __name__ == '__main__':\n",
    "    socket_client()\n"
   ]
  }
 ],
 "metadata": {
  "kernelspec": {
   "display_name": "dataprocess",
   "language": "python",
   "name": "python3"
  },
  "language_info": {
   "codemirror_mode": {
    "name": "ipython",
    "version": 3
   },
   "file_extension": ".py",
   "mimetype": "text/x-python",
   "name": "python",
   "nbconvert_exporter": "python",
   "pygments_lexer": "ipython3",
   "version": "3.9.17"
  }
 },
 "nbformat": 4,
 "nbformat_minor": 2
}
